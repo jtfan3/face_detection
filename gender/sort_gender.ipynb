{
 "cells": [
  {
   "cell_type": "code",
   "execution_count": 34,
   "metadata": {},
   "outputs": [],
   "source": [
    "import os\n",
    "import re\n",
    "import shutil\n",
    "import glob"
   ]
  },
  {
   "cell_type": "code",
   "execution_count": 55,
   "metadata": {},
   "outputs": [],
   "source": [
    "gender_datapath = \"./data/gender\"\n",
    "utk_datapath = \"./data/raw/utkface_aligned_cropped/UTKFace\""
   ]
  },
  {
   "cell_type": "code",
   "execution_count": 53,
   "metadata": {},
   "outputs": [],
   "source": [
    "# setup regex to split basename into useful info\n",
    "info_regex = re.compile(\".*_.*_.*_\")\n",
    "\n",
    "# moves images from raw_path to gender_path\n",
    "def sort_gender(raw_path, gender_path):\n",
    "    for filename in os.listdir(raw_path):\n",
    "        # get info [0] is age, [1] is gender, [2] is ethnic\n",
    "        fileinfo = info_regex.match(filename)[0].split(\"_\")\n",
    "        gender = fileinfo[1]\n",
    "        # sort by gender\n",
    "        if (gender == '0'):\n",
    "            dest_path = gender_path + '\\\\0\\\\' + filename\n",
    "        else: \n",
    "            dest_path = gender_path + '\\\\1\\\\' + filename\n",
    "        # copy files\n",
    "        shutil.copy2(raw_path + \"\\\\\" + filename, dest_path)\n"
   ]
  },
  {
   "cell_type": "code",
   "execution_count": 37,
   "metadata": {},
   "outputs": [],
   "source": [
    "# clears out the target directory\n",
    "def clear_data_gender(gender_path):\n",
    "    for directory in glob.glob(gender_path + \"/*\"):\n",
    "        # clear folders\n",
    "        shutil.rmtree(directory)\n",
    "        # create the directory again\n",
    "        os.mkdir(directory)"
   ]
  },
  {
   "cell_type": "code",
   "execution_count": 56,
   "metadata": {},
   "outputs": [],
   "source": [
    "# if need to reset gender_data\n",
    "clear_data_gender(gender_datapath)\n",
    "# copy raw into gender_datapath based on gender\n",
    "sort_gender(gender_datapath, gender_datapath)"
   ]
  }
 ],
 "metadata": {
  "interpreter": {
   "hash": "137b06e20b604b3c885ac65a4d38ed2264cdbd14f1bfcecdca2fd76b7a9afbc1"
  },
  "kernelspec": {
   "display_name": "Python 3.9.7 64-bit ('face': conda)",
   "language": "python",
   "name": "python3"
  },
  "language_info": {
   "codemirror_mode": {
    "name": "ipython",
    "version": 3
   },
   "file_extension": ".py",
   "mimetype": "text/x-python",
   "name": "python",
   "nbconvert_exporter": "python",
   "pygments_lexer": "ipython3",
   "version": "3.9.7"
  },
  "orig_nbformat": 4
 },
 "nbformat": 4,
 "nbformat_minor": 2
}

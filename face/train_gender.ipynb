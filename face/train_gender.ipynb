{
 "cells": [
  {
   "cell_type": "code",
   "execution_count": 1,
   "metadata": {},
   "outputs": [],
   "source": [
    "import numpy as np\n",
    "import pandas as pd\n",
    "import os\n",
    "import tensorflow as tf\n",
    "import tensorflow.keras as keras\n",
    "from tensorflow.keras import layers, models\n",
    "from tensorflow.keras.preprocessing.image import ImageDataGenerator\n",
    "from sklearn.utils import class_weight\n",
    "import cv2"
   ]
  },
  {
   "cell_type": "code",
   "execution_count": 2,
   "metadata": {},
   "outputs": [
    {
     "name": "stdout",
     "output_type": "stream",
     "text": [
      "Num GPUs Available:  1\n"
     ]
    }
   ],
   "source": [
    "print(\"Num GPUs Available: \", len(tf.config.list_physical_devices('GPU')))"
   ]
  },
  {
   "cell_type": "code",
   "execution_count": 3,
   "metadata": {},
   "outputs": [
    {
     "name": "stdout",
     "output_type": "stream",
     "text": [
      "Found 20153 images belonging to 2 classes.\n",
      "Found 3555 images belonging to 2 classes.\n"
     ]
    }
   ],
   "source": [
    "IMG_SIZE = (200,200)\n",
    "COLOR_MODE = \"rgb\"\n",
    "BATCH_SIZE = 64\n",
    "IMG_SHAPE = IMG_SIZE + (3,) if COLOR_MODE == \"rgb\" else IMG_SIZE + (1,)\n",
    "\n",
    "gender_data = './data/gender'\n",
    "\n",
    "datagen = ImageDataGenerator(rescale = 1./255, validation_split = 0.15)\n",
    "\n",
    "train_gen = datagen.flow_from_directory(\n",
    "    directory = gender_data,\n",
    "    subset = 'training',\n",
    "    target_size= IMG_SIZE,\n",
    "    color_mode=COLOR_MODE,\n",
    "    batch_size= BATCH_SIZE,\n",
    "    class_mode='binary',\n",
    "    shuffle=True\n",
    ")\n",
    "\n",
    "val_gen = datagen.flow_from_directory(\n",
    "    directory = gender_data,\n",
    "    subset = 'validation',\n",
    "    target_size= IMG_SIZE,\n",
    "    color_mode=COLOR_MODE,\n",
    "    batch_size= BATCH_SIZE,\n",
    "    class_mode='binary',\n",
    "    shuffle=True\n",
    ")\n"
   ]
  },
  {
   "cell_type": "code",
   "execution_count": 4,
   "metadata": {},
   "outputs": [],
   "source": [
    "# # transfer learning (needs rbg channels)\n",
    "# preprocess_input = tf.keras.applications.mobilenet_v2.preprocess_input\n",
    "\n",
    "# base_model = tf.keras.applications.MobileNetV2(input_shape=IMG_SHAPE,\n",
    "#                                                include_top=False,\n",
    "#                                                weights='imagenet')\n",
    "\n",
    "# preprocess_input = tf.keras.applications.inception_v3.preprocess_input\n",
    "\n",
    "# base_model = tf.keras.applications.inception_v3.InceptionV3(\n",
    "#                 include_top=False, weights='imagenet', \n",
    "#                 input_shape=IMG_SHAPE)\n",
    "\n",
    "# preprocess_input = tf.keras.applications.vgg19.preprocess_input\n",
    "\n",
    "# base_model = tf.keras.applications.vgg19.VGG19(\n",
    "#                 include_top=False, weights='imagenet', \n",
    "#                 input_shape=IMG_SHAPE)\n",
    "\n",
    "# preprocess_input = tf.keras.applications.resnet.preprocess_input\n",
    "\n",
    "# base_model = tf.keras.applications.resnet.ResNet101(\n",
    "#     include_top=False, weights='imagenet', input_shape=IMG_SHAPE\n",
    "# )\n",
    "\n",
    "                                               \n",
    "\n",
    "# base_model.trainable = False"
   ]
  },
  {
   "cell_type": "code",
   "execution_count": 5,
   "metadata": {},
   "outputs": [],
   "source": [
    "# inputs = tf.keras.Input(shape=IMG_SHAPE)\n",
    "# # x = data_augmentation(inputs)\n",
    "# x = preprocess_input(inputs)\n",
    "# x = base_model(x, training=False)\n",
    "# x = layers.Flatten()(x)\n",
    "# x = layers.Dense(64, activation = 'relu')(x)\n",
    "# # x = layers.Dense(32, activation = 'relu')(x)\n",
    "# x = layers.Dense(32, activation = 'relu')(x)\n",
    "# outputs = layers.Dense(1, activation=\"sigmoid\")(x)\n",
    "# model = tf.keras.Model(inputs, outputs)\n"
   ]
  },
  {
   "cell_type": "code",
   "execution_count": 6,
   "metadata": {},
   "outputs": [],
   "source": [
    "# ~77% val\n",
    "# model = keras.models.Sequential([\n",
    "#     layers.Conv2D(32, (2, 2), padding = \"same\", activation='relu', input_shape=IMG_SHAPE),\n",
    "#     keras.layers.Dropout(0.2), \n",
    "#     layers.MaxPooling2D((2, 2)),\n",
    "#     layers.Conv2D(64, (2, 2), padding = \"same\", activation='relu'),\n",
    "#     keras.layers.Dropout(0.2), \n",
    "#     layers.MaxPooling2D((2, 2)),\n",
    "#     layers.Conv2D(128, (2,2), 2, activation='relu'),\n",
    "#     keras.layers.Dropout(0.2), \n",
    "#     layers.MaxPooling2D((2, 2)),\n",
    "#     layers.Conv2D(128, (3, 3), 2, activation='relu'),\n",
    "#     # layers.MaxPooling2D((2, 2)),\n",
    "#     keras.layers.Flatten(),\n",
    "#     # keras.layers.Dense(256, activation=\"relu\"),\n",
    "#     keras.layers.Dense(128, activation=\"relu\"),\n",
    "#     keras.layers.Dropout(0.2), \n",
    "#     # keras.layers.Dense(128, activation=\"relu\"),\n",
    "#     # keras.layers.Dense(64, activation=\"relu\"),\n",
    "#     keras.layers.Dense(64, activation=\"relu\"),\n",
    "#     keras.layers.Dropout(0.2),    \n",
    "#     keras.layers.Dense(1, activation=\"sigmoid\")\n",
    "# ])\n",
    "\n",
    "# model.compile(loss='binary_crossentropy', \n",
    "#                 optimizer=\"Adam\", \n",
    "#                 metrics=['binary_accuracy'])"
   ]
  },
  {
   "cell_type": "code",
   "execution_count": 7,
   "metadata": {},
   "outputs": [],
   "source": [
    "# # ~77\n",
    "# model = keras.models.Sequential([\n",
    "#     layers.Conv2D(32, (2, 2), padding = \"same\", activation='relu', input_shape=IMG_SHAPE),\n",
    "#     keras.layers.Dropout(0.2), \n",
    "#     layers.MaxPooling2D((2, 2)),\n",
    "#     layers.Conv2D(64, (2, 2), padding = \"same\", activation='relu'),\n",
    "#     keras.layers.Dropout(0.2), \n",
    "#     layers.MaxPooling2D((2, 2)),\n",
    "#     layers.Conv2D(128, (2,2), activation='relu'),\n",
    "#     keras.layers.Dropout(0.2), \n",
    "#     layers.Conv2D(128, (2,2), 2, activation='relu'),\n",
    "#     keras.layers.Dropout(0.2), \n",
    "#     layers.MaxPooling2D((2, 2)),\n",
    "#     layers.Conv2D(128, (3, 3), 2, activation='relu'),\n",
    "#     keras.layers.Flatten(),\n",
    "#     keras.layers.Dense(128, activation=\"relu\"),\n",
    "#     keras.layers.Dropout(0.2), \n",
    "#     keras.layers.Dense(64, activation=\"relu\"),\n",
    "#     keras.layers.Dropout(0.2),    \n",
    "#     keras.layers.Dense(1, activation=\"sigmoid\")\n",
    "# ])\n",
    "\n",
    "# model.compile(loss='binary_crossentropy', \n",
    "#                 optimizer=\"Adam\", \n",
    "#                 metrics=['binary_accuracy'])"
   ]
  },
  {
   "cell_type": "code",
   "execution_count": 25,
   "metadata": {},
   "outputs": [],
   "source": [
    "def id_block(x, n_filter, filter_size):\n",
    "    skip = x\n",
    "    # layer 1\n",
    "    x = layers.Conv2D(n_filter, filter_size, padding = 'same', activation = 'relu')(x)\n",
    "    x = tf.keras.layers.BatchNormalization(axis=3)(x)\n",
    "    # layer 2\n",
    "    x = layers.Conv2D(n_filter, filter_size, padding = 'same')(x)\n",
    "    x = layers.BatchNormalization(axis=3)(x)\n",
    "    x = layers.Activation('relu')(x)\n",
    "    # skip connection \n",
    "    x = tf.keras.layers.Add()([x, skip]) \n",
    "    x = layers.Activation('relu')(x)\n",
    "    return x"
   ]
  },
  {
   "cell_type": "code",
   "execution_count": 82,
   "metadata": {},
   "outputs": [
    {
     "name": "stdout",
     "output_type": "stream",
     "text": [
      "Model: \"model_26\"\n",
      "__________________________________________________________________________________________________\n",
      "Layer (type)                    Output Shape         Param #     Connected to                     \n",
      "==================================================================================================\n",
      "input_34 (InputLayer)           [(None, 200, 200, 3) 0                                            \n",
      "__________________________________________________________________________________________________\n",
      "conv2d_135 (Conv2D)             (None, 100, 100, 64) 832         input_34[0][0]                   \n",
      "__________________________________________________________________________________________________\n",
      "conv2d_136 (Conv2D)             (None, 100, 100, 64) 36928       conv2d_135[0][0]                 \n",
      "__________________________________________________________________________________________________\n",
      "batch_normalization_60 (BatchNo (None, 100, 100, 64) 256         conv2d_136[0][0]                 \n",
      "__________________________________________________________________________________________________\n",
      "conv2d_137 (Conv2D)             (None, 100, 100, 64) 36928       batch_normalization_60[0][0]     \n",
      "__________________________________________________________________________________________________\n",
      "add_42 (Add)                    (None, 100, 100, 64) 0           conv2d_137[0][0]                 \n",
      "                                                                 conv2d_135[0][0]                 \n",
      "__________________________________________________________________________________________________\n",
      "activation_39 (Activation)      (None, 100, 100, 64) 0           add_42[0][0]                     \n",
      "__________________________________________________________________________________________________\n",
      "conv2d_138 (Conv2D)             (None, 33, 33, 128)  73856       activation_39[0][0]              \n",
      "__________________________________________________________________________________________________\n",
      "max_pooling2d_39 (MaxPooling2D) (None, 16, 16, 128)  0           conv2d_138[0][0]                 \n",
      "__________________________________________________________________________________________________\n",
      "batch_normalization_61 (BatchNo (None, 16, 16, 128)  512         max_pooling2d_39[0][0]           \n",
      "__________________________________________________________________________________________________\n",
      "flatten_28 (Flatten)            (None, 32768)        0           batch_normalization_61[0][0]     \n",
      "__________________________________________________________________________________________________\n",
      "dense_71 (Dense)                (None, 16)           524304      flatten_28[0][0]                 \n",
      "__________________________________________________________________________________________________\n",
      "dense_72 (Dense)                (None, 1)            17          dense_71[0][0]                   \n",
      "==================================================================================================\n",
      "Total params: 673,633\n",
      "Trainable params: 673,249\n",
      "Non-trainable params: 384\n",
      "__________________________________________________________________________________________________\n"
     ]
    }
   ],
   "source": [
    "inputs = tf.keras.Input(shape=IMG_SHAPE)\n",
    "x = layers.Conv2D(64, 2, 2, activation='relu')(inputs)\n",
    "# x = id_block(x, 64, 3)\n",
    "# x = layers.MaxPooling2D((2, 2))(x)\n",
    "x = id_block(x, 64, 3)\n",
    "# x = layers.MaxPooling2D((3, 3))(x)\n",
    "x = layers.Conv2D(128, 3, 3, activation='relu')(x)\n",
    "x = layers.MaxPooling2D((2, 2))(x)\n",
    "x = tf.keras.layers.BatchNormalization(axis=3)(x)\n",
    "x = layers.Flatten()(x)\n",
    "x = layers.Dense(16, activation = 'relu')(x)\n",
    "# x = layers.Dense(16, activation = 'relu')(x)\n",
    "outputs = layers.Dense(1, activation=\"sigmoid\")(x)\n",
    "model = tf.keras.Model(inputs, outputs)\n",
    "\n",
    "model.summary()"
   ]
  },
  {
   "cell_type": "code",
   "execution_count": 83,
   "metadata": {},
   "outputs": [],
   "source": [
    "LEARNING_RATE = 0.0005\n",
    "EPSILON = 0.05\n",
    "\n",
    "model.compile(loss='binary_crossentropy', \n",
    "                optimizer=tf.keras.optimizers.Adam(learning_rate=LEARNING_RATE, epsilon = EPSILON), \n",
    "                metrics=['accuracy'])"
   ]
  },
  {
   "cell_type": "code",
   "execution_count": 84,
   "metadata": {},
   "outputs": [
    {
     "name": "stdout",
     "output_type": "stream",
     "text": [
      "Epoch 1/15\n",
      "314/314 [==============================] - 22s 68ms/step - loss: 0.3565 - accuracy: 0.8413 - val_loss: 0.6369 - val_accuracy: 0.6048\n",
      "Epoch 2/15\n",
      "314/314 [==============================] - 21s 68ms/step - loss: 0.2308 - accuracy: 0.9071 - val_loss: 0.5054 - val_accuracy: 0.7460\n",
      "Epoch 3/15\n",
      "314/314 [==============================] - 21s 68ms/step - loss: 0.1880 - accuracy: 0.9247 - val_loss: 0.5058 - val_accuracy: 0.7548\n",
      "Epoch 4/15\n",
      "314/314 [==============================] - 21s 68ms/step - loss: 0.1563 - accuracy: 0.9401 - val_loss: 0.5006 - val_accuracy: 0.7625\n",
      "Epoch 5/15\n",
      "314/314 [==============================] - 21s 68ms/step - loss: 0.1291 - accuracy: 0.9547 - val_loss: 0.6236 - val_accuracy: 0.7176\n",
      "Epoch 6/15\n",
      "314/314 [==============================] - 22s 68ms/step - loss: 0.1080 - accuracy: 0.9640 - val_loss: 0.6169 - val_accuracy: 0.7469\n",
      "Epoch 7/15\n",
      "314/314 [==============================] - 22s 68ms/step - loss: 0.0873 - accuracy: 0.9731 - val_loss: 0.6044 - val_accuracy: 0.7429\n",
      "Epoch 8/15\n",
      "314/314 [==============================] - 22s 68ms/step - loss: 0.0684 - accuracy: 0.9809 - val_loss: 0.5551 - val_accuracy: 0.7653\n",
      "Epoch 9/15\n",
      "314/314 [==============================] - 22s 68ms/step - loss: 0.0547 - accuracy: 0.9866 - val_loss: 0.5779 - val_accuracy: 0.7653\n",
      "Epoch 10/15\n",
      "314/314 [==============================] - 22s 68ms/step - loss: 0.0440 - accuracy: 0.9905 - val_loss: 0.6798 - val_accuracy: 0.7429\n",
      "Epoch 11/15\n",
      "314/314 [==============================] - 21s 68ms/step - loss: 0.0334 - accuracy: 0.9941 - val_loss: 0.5861 - val_accuracy: 0.7798\n",
      "Epoch 12/15\n",
      "314/314 [==============================] - 21s 68ms/step - loss: 0.0289 - accuracy: 0.9947 - val_loss: 0.6194 - val_accuracy: 0.7688\n",
      "Epoch 13/15\n",
      "314/314 [==============================] - 21s 68ms/step - loss: 0.0234 - accuracy: 0.9961 - val_loss: 0.6888 - val_accuracy: 0.7622\n",
      "Epoch 14/15\n",
      "314/314 [==============================] - 21s 68ms/step - loss: 0.0197 - accuracy: 0.9971 - val_loss: 0.6628 - val_accuracy: 0.7656\n",
      "Epoch 15/15\n",
      "314/314 [==============================] - 21s 68ms/step - loss: 0.0176 - accuracy: 0.9974 - val_loss: 0.6698 - val_accuracy: 0.7753\n"
     ]
    },
    {
     "data": {
      "text/plain": [
       "<tensorflow.python.keras.callbacks.History at 0x20eaedb9520>"
      ]
     },
     "execution_count": 84,
     "metadata": {},
     "output_type": "execute_result"
    }
   ],
   "source": [
    "step_train = train_gen.n//train_gen.batch_size\n",
    "step_val = val_gen.n//val_gen.batch_size\n",
    "# class_weight = {0:1, 1:10}\n",
    "\n",
    "model.fit(train_gen, epochs=15, verbose = 1,\n",
    "         validation_data = val_gen, steps_per_epoch = step_train, validation_steps = step_val)"
   ]
  },
  {
   "cell_type": "code",
   "execution_count": 87,
   "metadata": {},
   "outputs": [],
   "source": [
    "model.save('gender_model.hdf5')"
   ]
  }
 ],
 "metadata": {
  "interpreter": {
   "hash": "137b06e20b604b3c885ac65a4d38ed2264cdbd14f1bfcecdca2fd76b7a9afbc1"
  },
  "kernelspec": {
   "display_name": "Python 3.9.7 64-bit ('face': conda)",
   "language": "python",
   "name": "python3"
  },
  "language_info": {
   "codemirror_mode": {
    "name": "ipython",
    "version": 3
   },
   "file_extension": ".py",
   "mimetype": "text/x-python",
   "name": "python",
   "nbconvert_exporter": "python",
   "pygments_lexer": "ipython3",
   "version": "3.9.7"
  },
  "orig_nbformat": 4
 },
 "nbformat": 4,
 "nbformat_minor": 2
}

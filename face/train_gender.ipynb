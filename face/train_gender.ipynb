{
 "cells": [
  {
   "cell_type": "code",
   "execution_count": null,
   "metadata": {},
   "outputs": [],
   "source": [
    "import numpy as np\n",
    "import pandas as pd\n",
    "import os\n",
    "import tensorflow as tf\n",
    "import tensorflow.keras as keras\n",
    "from tensorflow.keras import layers, models\n",
    "from tensorflow.keras.preprocessing.image import ImageDataGenerator\n",
    "from sklearn.utils import class_weight\n",
    "from PIL import Image\n",
    "import cv2\n",
    "from face_config import *"
   ]
  },
  {
   "cell_type": "code",
   "execution_count": null,
   "metadata": {},
   "outputs": [],
   "source": [
    "print(\"Num GPUs Available: \", len(tf.config.list_physical_devices('GPU')))"
   ]
  },
  {
   "cell_type": "code",
   "execution_count": null,
   "metadata": {},
   "outputs": [],
   "source": [
    "datagen = ImageDataGenerator(rescale = 1./255, validation_split = 0.15)\n",
    "\n",
    "train_gen = datagen.flow_from_directory(\n",
    "    directory = GENDER_DATA,\n",
    "    subset = 'training',\n",
    "    target_size= IMG_SIZE,\n",
    "    color_mode=COLOR_MODE,\n",
    "    batch_size= BATCH_SIZE,\n",
    "    class_mode='categorical',\n",
    "    shuffle=True,\n",
    ")\n",
    "\n",
    "val_gen = datagen.flow_from_directory(\n",
    "    directory = GENDER_DATA,\n",
    "    subset = 'validation',\n",
    "    target_size= IMG_SIZE,\n",
    "    color_mode=COLOR_MODE,\n",
    "    batch_size= BATCH_SIZE,\n",
    "    class_mode='categorical',\n",
    "    shuffle=True\n",
    ")\n"
   ]
  },
  {
   "cell_type": "code",
   "execution_count": null,
   "metadata": {},
   "outputs": [],
   "source": [
    "# transfer learning (needs rbg channels)\n",
    "base_model = tf.keras.applications.EfficientNetB0(\n",
    "    include_top=False, weights='imagenet', input_shape=IMG_SHAPE, pooling=\"avg\")                                          \n",
    "\n",
    "# base_model.trainable = False"
   ]
  },
  {
   "cell_type": "code",
   "execution_count": null,
   "metadata": {},
   "outputs": [],
   "source": [
    "# model graph\n",
    "inputs = tf.keras.Input(shape=IMG_SHAPE)\n",
    "x = base_model(inputs, training=False)\n",
    "outputs = layers.Dense(units=2, activation=\"softmax\", dtype='float32')(x)\n",
    "model = tf.keras.Model(inputs, outputs)\n",
    "\n",
    "model.summary()"
   ]
  },
  {
   "cell_type": "code",
   "execution_count": null,
   "metadata": {},
   "outputs": [],
   "source": [
    "# Compile the model\n",
    "\n",
    "lr_schedule = keras.optimizers.schedules.ExponentialDecay(\n",
    "    initial_learning_rate=LEARNING_RATE,\n",
    "    decay_steps=10000,\n",
    "    decay_rate=DECAY)\n",
    "\n",
    "model.compile(loss=['binary_crossentropy'], \n",
    "                optimizer=tf.keras.optimizers.Adam(learning_rate=lr_schedule), \n",
    "                metrics=['accuracy'])"
   ]
  },
  {
   "cell_type": "code",
   "execution_count": null,
   "metadata": {},
   "outputs": [],
   "source": [
    "callbacks = [\n",
    "        tf.keras.callbacks.TensorBoard(log_dir=LOG_PATH, histogram_freq=1),\n",
    "        tf.keras.callbacks.ModelCheckpoint(MODEL_PATH,\n",
    "                            monitor='accuracy',\n",
    "                            verbose=1,\n",
    "                            save_best_only=True,\n",
    "                            mode='max')]"
   ]
  },
  {
   "cell_type": "code",
   "execution_count": null,
   "metadata": {},
   "outputs": [],
   "source": [
    "step_train = train_gen.n//train_gen.batch_size\n",
    "step_val = val_gen.n//val_gen.batch_size\n",
    "\n",
    "model.fit(train_gen, epochs=20, verbose = 1, callbacks = callbacks,\n",
    "         validation_data = val_gen, steps_per_epoch = step_train, validation_steps = step_val)"
   ]
  },
  {
   "cell_type": "code",
   "execution_count": null,
   "metadata": {},
   "outputs": [],
   "source": [
    "model.save('gender_model.hdf5')"
   ]
  }
 ],
 "metadata": {
  "interpreter": {
   "hash": "137b06e20b604b3c885ac65a4d38ed2264cdbd14f1bfcecdca2fd76b7a9afbc1"
  },
  "kernelspec": {
   "display_name": "Python 3.9.7 64-bit ('face': conda)",
   "language": "python",
   "name": "python3"
  },
  "language_info": {
   "codemirror_mode": {
    "name": "ipython",
    "version": 3
   },
   "file_extension": ".py",
   "mimetype": "text/x-python",
   "name": "python",
   "nbconvert_exporter": "python",
   "pygments_lexer": "ipython3",
   "version": "3.9.7"
  },
  "orig_nbformat": 4
 },
 "nbformat": 4,
 "nbformat_minor": 2
}

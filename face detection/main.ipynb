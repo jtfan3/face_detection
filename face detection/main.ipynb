{
 "cells": [
  {
   "cell_type": "code",
   "execution_count": 46,
   "metadata": {},
   "outputs": [],
   "source": [
    "import cv2\n",
    "import mediapipe as mp\n",
    "import os"
   ]
  },
  {
   "cell_type": "code",
   "execution_count": 3,
   "metadata": {},
   "outputs": [],
   "source": [
    "mp_draw = mp.solutions.drawing_utils\n",
    "mp_face_detection = mp.solutions.face_detection"
   ]
  },
  {
   "cell_type": "code",
   "execution_count": 38,
   "metadata": {},
   "outputs": [],
   "source": [
    "# Initiate facedetection model\n",
    "face_detection = mp_face_detection.FaceDetection(model_selection = 0, min_detection_confidence = 0.7)"
   ]
  },
  {
   "cell_type": "code",
   "execution_count": 217,
   "metadata": {},
   "outputs": [],
   "source": [
    "def get_bboxs(frame):\n",
    "    mp_detections = face_detection.process(frame)\n",
    "    score_bboxs = []\n",
    "    if mp_detections.detections:\n",
    "        for detection in mp_detections.detections:\n",
    "            score = detection.score[0]\n",
    "            mp_bbox = detection.location_data.relative_bounding_box\n",
    "            bbox_dict = {\n",
    "                'x_min': mp_bbox.xmin,\n",
    "                'y_min': mp_bbox.ymin,\n",
    "                'w': mp_bbox.width,\n",
    "                'h': mp_bbox.height\n",
    "            }\n",
    "\n",
    "            score_bboxs.append([score, bbox_dict])\n",
    "\n",
    "    return score_bboxs"
   ]
  },
  {
   "cell_type": "code",
   "execution_count": 223,
   "metadata": {},
   "outputs": [],
   "source": [
    "def draw_bbox(score, bbox_dict, frame, col = (255, 0, 255)):\n",
    "    x_min, y_min, w, h = bbox_dict.values()\n",
    "    frame_h, frame_w, _ = frame.shape\n",
    "    bbox = int(x_min * frame_w), int(y_min * frame_h), int(w * frame_w), int(h * frame_h)\n",
    "\n",
    "    # draw bbox\n",
    "    cv2.rectangle(frame, bbox, col, 2)\n",
    "    cv2.putText(frame, str(round(score, 3)), (bbox[0], bbox[1] - 10),\n",
    "                cv2.FONT_HERSHEY_COMPLEX, 0.6, col, 1)"
   ]
  },
  {
   "cell_type": "code",
   "execution_count": 227,
   "metadata": {},
   "outputs": [],
   "source": [
    "# MAIN\n",
    "# param is 0, first webcam in list of webcams\n",
    "cam = cv2.VideoCapture(0)\n",
    "\n",
    "while cam.isOpened():\n",
    "    # take frame from webcam\n",
    "    success, frame = cam.read()\n",
    "    # flip frame for selfie mode\n",
    "    frame = cv2.flip(frame, 1)\n",
    "    # check if loaded frame\n",
    "    if not success:\n",
    "        print(\"Image is donezo gonezo\")\n",
    "        continue\n",
    "\n",
    "    # frame setup\n",
    "    frame.flags.writeable = False # not writeable, pass by reference\n",
    "    frame = cv2.cvtColor(frame, cv2.COLOR_BGR2RGB) # rgb for mediapipe use\n",
    "    # detect boxes\n",
    "    bboxs = get_bboxs(frame)\n",
    "\n",
    "    # draw bbox on frame\n",
    "    frame.flags.writeable = True # now need to draw on\n",
    "    frame = cv2.cvtColor(frame, cv2.COLOR_RGB2BGR) # back to bgr for opencv\n",
    "\n",
    "    if bboxs:\n",
    "        for bbox in bboxs:\n",
    "            #Draw box on face\n",
    "            draw_bbox(bbox[0], bbox[1], frame)\n",
    "\n",
    "    # display frame\n",
    "    cv2.imshow('Webcam', frame)\n",
    "\n",
    "    # use q to quit\n",
    "    if cv2.waitKey(5) & 0xFF == ord('q'):\n",
    "        break\n",
    "\n",
    "# close the camera\n",
    "cam.release()\n",
    "# Close windows\n",
    "cv2.destroyAllWindows()"
   ]
  }
 ],
 "metadata": {
  "interpreter": {
   "hash": "137b06e20b604b3c885ac65a4d38ed2264cdbd14f1bfcecdca2fd76b7a9afbc1"
  },
  "kernelspec": {
   "display_name": "Python 3.9.7 64-bit ('face': conda)",
   "language": "python",
   "name": "python3"
  },
  "language_info": {
   "codemirror_mode": {
    "name": "ipython",
    "version": 3
   },
   "file_extension": ".py",
   "mimetype": "text/x-python",
   "name": "python",
   "nbconvert_exporter": "python",
   "pygments_lexer": "ipython3",
   "version": "3.9.7"
  },
  "orig_nbformat": 4
 },
 "nbformat": 4,
 "nbformat_minor": 2
}
